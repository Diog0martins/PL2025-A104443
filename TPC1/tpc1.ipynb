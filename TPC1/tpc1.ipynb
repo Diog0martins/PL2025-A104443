{
 "cells": [
  {
   "cell_type": "markdown",
   "metadata": {},
   "source": [
    "Trabalho de Casa:"
   ]
  },
  {
   "cell_type": "code",
   "execution_count": 2,
   "metadata": {},
   "outputs": [],
   "source": [
    "def analyzer(string):\n",
    "    total_sum = 0\n",
    "    buffer = \"\"\n",
    "    on = 1\n",
    "    counting = 0\n",
    "    i = 0\n",
    "\n",
    "    while i < len(string):\n",
    "        if string[i] in \"0123456789\":\n",
    "            counting = 1\n",
    "            if on == 1:\n",
    "                buffer += string[i]\n",
    "\n",
    "        elif string[i] == '=':\n",
    "            print(total_sum)\n",
    "\n",
    "        elif string[i].lower() == 'o' and i + 1 < len(string):\n",
    "            if string[i + 1].lower() == 'n' and on == 0:\n",
    "                i += 1\n",
    "                on = 1\n",
    "            elif string[i + 1].lower() == 'f' and i + 2 < len(string) and string[i + 2].lower() == 'f' and on == 1:\n",
    "                i += 2\n",
    "                on = 0\n",
    "\n",
    "        if counting == 1 and not string[i].isdigit():\n",
    "            counting = 0\n",
    "            if buffer:\n",
    "                total_sum += int(buffer)\n",
    "                buffer = \"\"\n",
    "\n",
    "        i += 1\n",
    "\n",
    "    return total_sum "
   ]
  },
  {
   "cell_type": "code",
   "execution_count": 9,
   "metadata": {},
   "outputs": [
    {
     "name": "stdout",
     "output_type": "stream",
     "text": [
      "168\n",
      "True\n",
      "46\n",
      "True\n",
      "10\n",
      "True\n",
      "2032\n",
      "2032\n",
      "True\n"
     ]
    }
   ],
   "source": [
    "print(analyzer(\"123on45off67=89\") == 168)  # 123 + 45 = 168 \n",
    "print(analyzer(\"12on34off56=\") == 46)      # 12 + 34 = 46\n",
    "print(analyzer(\"10off20on30=\") == 40)      # 10 + 30 = 40\n",
    "print(analyzer(\"Hoje, 7 de Fevereiro de 2025, o professor de Processamento de Linguagens deu-nos este trabalho para fazer.=OfF E deu-nos 7= dias para o fazer... ON Cada trabalho destes vale 0.25 valores da nota final!\") == 2057)    \n"
   ]
  }
 ],
 "metadata": {
  "kernelspec": {
   "display_name": "Python 3",
   "language": "python",
   "name": "python3"
  },
  "language_info": {
   "codemirror_mode": {
    "name": "ipython",
    "version": 3
   },
   "file_extension": ".py",
   "mimetype": "text/x-python",
   "name": "python",
   "nbconvert_exporter": "python",
   "pygments_lexer": "ipython3",
   "version": "3.12.3"
  }
 },
 "nbformat": 4,
 "nbformat_minor": 2
}
