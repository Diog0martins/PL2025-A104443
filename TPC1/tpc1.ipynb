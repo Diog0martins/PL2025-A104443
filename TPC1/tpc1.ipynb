{
 "cells": [
  {
   "cell_type": "markdown",
   "metadata": {},
   "source": [
    "Trabalho de Casa:"
   ]
  },
  {
   "cell_type": "code",
   "execution_count": null,
   "metadata": {},
   "outputs": [
    {
     "ename": "",
     "evalue": "",
     "output_type": "error",
     "traceback": [
      "\u001b[1;31mRunning cells with 'Python 3.12.3' requires the ipykernel package.\n",
      "\u001b[1;31mRun the following command to install 'ipykernel' into the Python environment. \n",
      "\u001b[1;31mCommand: '/bin/python3 -m pip install ipykernel -U --user --force-reinstall'"
     ]
    }
   ],
   "source": [
    "def analyzer(string):\n",
    "    total_sum = 0\n",
    "    buffer = \"\"\n",
    "    on = 1\n",
    "    counting = 0\n",
    "    i = 0\n",
    "\n",
    "    while i < len(string):\n",
    "        if string[i] in \"0123456789\":\n",
    "            counting = 1\n",
    "            if on == 1:\n",
    "                buffer += string[i]\n",
    "\n",
    "        elif string[i] == '=':\n",
    "            print(total_sum)\n",
    "\n",
    "        elif string[i].lower() == 'o' and i + 1 < len(string):\n",
    "            if string[i + 1].lower() == 'n' and on == 0:\n",
    "                i += 1\n",
    "                on = 1\n",
    "            elif string[i + 1].lower() == 'f' and i + 2 < len(string) and string[i + 2].lower() == 'f' and on == 1:\n",
    "                i += 2\n",
    "                on = 0\n",
    "\n",
    "        if counting == 1 and not string[i].isdigit():\n",
    "            counting = 0\n",
    "            if buffer:\n",
    "                total_sum += int(buffer)\n",
    "                buffer = \"\"  # Reset buffer after conversion\n",
    "\n",
    "        i += 1  # Increment index in every iteration\n",
    "\n",
    "    return total_sum "
   ]
  },
  {
   "cell_type": "code",
   "execution_count": null,
   "metadata": {},
   "outputs": [],
   "source": [
    "print(analyzer(\"123on45off67=89\"))  # Expected output: 168 (123 + 45)\n",
    "print(analyzer(\"12on34off56=\"))     # Expected output: 46 (12 + 34)\n",
    "print(analyzer(\"10off20on30=\"))     # Expected output: 30 (30 only, since 'off' disables number capturing)\n"
   ]
  }
 ],
 "metadata": {
  "kernelspec": {
   "display_name": "Python 3",
   "language": "python",
   "name": "python3"
  },
  "language_info": {
   "name": "python",
   "version": "3.12.3"
  }
 },
 "nbformat": 4,
 "nbformat_minor": 2
}
